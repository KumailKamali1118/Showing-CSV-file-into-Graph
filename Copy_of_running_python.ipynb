{
  "cells": [
    {
      "cell_type": "markdown",
      "metadata": {
        "id": "view-in-github",
        "colab_type": "text"
      },
      "source": [
        "<a href=\"https://colab.research.google.com/github/KumailKamali1118/Showing-CSV-file-into-Graph/blob/main/Copy_of_running_python.ipynb\" target=\"_parent\"><img src=\"https://colab.research.google.com/assets/colab-badge.svg\" alt=\"Open In Colab\"/></a>"
      ]
    },
    {
      "cell_type": "markdown",
      "metadata": {
        "id": "U9OKnb5eZ9UW"
      },
      "source": [
        "\n",
        "<center>\n",
        "<table>\n",
        "  <tr>\n",
        "    <td><img src=\"http://www.nasa.gov/sites/all/themes/custom/nasatwo/images/nasa-logo.svg\" width=\"100\"/> </td>\n",
        "     <td><img src=\"https://github.com/astg606/py_materials/blob/master/logos/ASTG_logo.png?raw=true\" width=\"80\"/> </td>\n",
        "     <td> <img src=\"https://www.nccs.nasa.gov/sites/default/files/NCCS_Logo_0.png\" width=\"130\"/> </td>\n",
        "    </tr>\n",
        "</table>\n",
        "</center>\n",
        "\n",
        "        \n",
        "<center>\n",
        "<h1><font color= \"blue\" size=\"+3\">ASTG Python Courses</font></h1>\n",
        "</center>\n",
        "\n",
        "\n",
        "---\n",
        "\n",
        "<center><h1>\n",
        "    <font color=\"red\" size=\"+2\">Running Python</font>  \n",
        "</h1></center>"
      ]
    },
    {
      "cell_type": "code",
      "source": [
        "import numpy as np\n",
        "import pandas as pd\n",
        "from numpy import unique, argmax\n",
        "from tensorflow.keras.datasets.mnist import load_data\n",
        "from tensorflow.keras import Sequential\n",
        "from tensorflow.keras.layers import Conv2D\n",
        "from tensorflow.keras.layers import Dense\n",
        "from tensorflow.keras.layers import Flatten\n",
        "from tensorflow.keras.layers import Dropout\n",
        "from tensorflow.keras.utils import plot_model\n",
        "import matplotlib.pyplot as plt\n",
        "from tensorflow.keras.datasets import mnist\n",
        "(train_x, train_y), (test_x, test_y) = mnist.load_data()"
      ],
      "metadata": {
        "id": "k1uuyeJ-aBZI",
        "colab": {
          "base_uri": "https://localhost:8080/"
        },
        "outputId": "524284fd-dae8-4b51-9f45-5f26c932189a"
      },
      "execution_count": 11,
      "outputs": [
        {
          "output_type": "stream",
          "name": "stdout",
          "text": [
            "Downloading data from https://storage.googleapis.com/tensorflow/tf-keras-datasets/mnist.npz\n",
            "11490434/11490434 [==============================] - 0s 0us/step\n"
          ]
        }
      ]
    },
    {
      "cell_type": "code",
      "source": [
        "print(train_x.shape, train_y.shape)\n",
        "print(test_x.shape , test_y.shape)"
      ],
      "metadata": {
        "id": "oLVfkDUkaMrY",
        "outputId": "33b9db99-9346-4eb9-a63c-5d53f5dca70b",
        "colab": {
          "base_uri": "https://localhost:8080/"
        }
      },
      "execution_count": 12,
      "outputs": [
        {
          "output_type": "stream",
          "name": "stdout",
          "text": [
            "(60000, 28, 28) (60000,)\n",
            "(10000, 28, 28) (10000,)\n"
          ]
        }
      ]
    },
    {
      "cell_type": "markdown",
      "metadata": {
        "id": "aBZixezuZ9Ue"
      },
      "source": [
        "# <font color='blue'>Why Learn Python?</font>\n",
        "\n",
        "---\n",
        "\n",
        "* Is a free and open-source.\n",
        "* Is a high-level and interpreted general purpose programming language.\n",
        "* Its simple syntax makes it suitable for learning programming as a first language.\n",
        "* Has a very extensive standard library and over 150,000 external libraries.\n",
        "* Is portable and extensible. It interoprate with other languages such as Fortran, C, C++, Java,...\n",
        "* Has a large community.\n",
        "\n",
        "**Benefits of Learning Python**\n",
        "\n",
        "![fig_python](https://static.javatpoint.com/interview/images/advantages-of-python.png)\n",
        "Image Source: www.javatpoint.com\n",
        "\n",
        "Python finds applications in areas such as:\n",
        "\n",
        "+ Web Programming\n",
        "+ Data Science\n",
        "+ Machine Learning and Artificial Intelligence\n",
        "+ Scripting & Automation\n",
        "+ Games\n",
        "+ Desktop GUI applications\n",
        "+ Database access\n",
        "          \n",
        "![fig_python](https://hackernoon.com/hn-images/1*jVKTE1dd8CVv4WEtcidCPA.png)"
      ]
    },
    {
      "cell_type": "code",
      "source": [
        "train_x = train_x.astype('float32')/255.0\n",
        "test_x = test_x.astype('float32')/255.0"
      ],
      "metadata": {
        "id": "_Yolg-n1aroH"
      },
      "execution_count": 13,
      "outputs": []
    },
    {
      "cell_type": "markdown",
      "metadata": {
        "id": "iHRJAmFZZ9Ug"
      },
      "source": [
        "# <font color='blue'> Python Versions</font>\n",
        "\n",
        "----\n",
        "\n",
        "Python has two major versions:\n",
        "\n",
        "+ **2.x**: Released in 2000. The latest version is 2.7 released in 2010. __It is not recommended for use in new projects__.\n",
        "+ **3.x**: Released in 2008 to fix problems that exist in Python 2.x.\n",
        "   - The nature of these changes is such that Python 3 was incompatible with Python 2. It is backward incompatible.\n",
        "   - Python 3 isn’t compatible with Python 2.\n",
        "   - You should use the latest versions of Python 3 for your new projects.\n",
        "\n",
        "**For this class, we will use Python 3.x.**"
      ]
    },
    {
      "cell_type": "code",
      "source": [
        "fig = plt.figure(figsize = (20,5))\n",
        "for i in range(20):\n",
        " ax= fig.add_subplot(2, 10, i+1, xticks=[], yticks=[])\n",
        " ax.imshow(np.squeeze(train_x[i]), cmap='gray')\n",
        " ax.set_title(train_y[i])\n"
      ],
      "metadata": {
        "id": "3oHiZsBeavwh",
        "outputId": "86cc63ad-f837-4e34-fe65-e1a43f9a7cd8",
        "colab": {
          "base_uri": "https://localhost:8080/",
          "height": 363
        }
      },
      "execution_count": 14,
      "outputs": [
        {
          "output_type": "display_data",
          "data": {
            "text/plain": [
              "<Figure size 2000x500 with 20 Axes>"
            ],
            "image/png": "[encoded data removed]"
          },
          "metadata": {}
        }
      ]
    },
    {
      "cell_type": "markdown",
      "metadata": {
        "id": "lUvcI2fvZ9Ui"
      },
      "source": [
        "# <font color='blue'>Ways to Run Python</font>\n",
        "\n",
        "---\n",
        "We want to introduce four ways to run Python:\n",
        "\n",
        "* Interactive Command Line through `python`\n",
        "* Interactive Command Line through `ipython`\n",
        "* Scripting\n",
        "* Jupyter Notebook\n"
      ]
    },
    {
      "cell_type": "code",
      "source": [
        "shape = train_x.shape[1:]\n",
        "shape"
      ],
      "metadata": {
        "id": "oiBrZbPHa0wn",
        "outputId": "7dd0410a-c2bf-4450-faf4-e373cd97db1b",
        "colab": {
          "base_uri": "https://localhost:8080/"
        }
      },
      "execution_count": 15,
      "outputs": [
        {
          "output_type": "execute_result",
          "data": {
            "text/plain": [
              "(28, 28)"
            ]
          },
          "metadata": {},
          "execution_count": 15
        }
      ]
    },
    {
      "cell_type": "markdown",
      "metadata": {
        "id": "mMPnQ8IiZ9Uk"
      },
      "source": [
        "You first need to make sure that Python is install on your system.\n",
        "With Linux/Unix systems, a default Python interpreter comes with the operating system. To test this, from the terminal type:\n",
        "\n",
        "`which python`\n",
        "\n",
        "and you will see something like:\n",
        "\n",
        "`/usr/bin/python`\n"
      ]
    },
    {
      "cell_type": "code",
      "source": [
        "from tensorflow.keras.layers import MaxPooling2D as MaxPool2D\n",
        "model = Sequential()\n",
        "#adding convolutional layer\n",
        "model.add(Conv2D(32, (3,3), activation='relu', input_shape=(28, 28, 1)))\n",
        "model.add(MaxPool2D((2,2)))\n",
        "model.add(Conv2D(48, (3,3), activation='relu'))\n",
        "model.add(MaxPool2D((2,2)))\n",
        "model.add(Dropout(0.5))\n",
        "model.add(Flatten())\n",
        "model.add(Dense(500, activation='relu'))\n",
        "model.add(Dense(10, activation='softmax'))\n",
        "model.summary()\n",
        "\n"
      ],
      "metadata": {
        "id": "sovjc-Mia9Bh",
        "outputId": "3c960318-e4a5-4f60-cb85-7465a7d67c1b",
        "colab": {
          "base_uri": "https://localhost:8080/"
        }
      },
      "execution_count": 16,
      "outputs": [
        {
          "output_type": "stream",
          "name": "stdout",
          "text": [
            "Model: \"sequential\"\n",
            "_________________________________________________________________\n",
            " Layer (type)                Output Shape              Param #   \n",
            "=================================================================\n",
            " conv2d (Conv2D)             (None, 26, 26, 32)        320       \n",
            "                                                                 \n",
            " max_pooling2d (MaxPooling2D  (None, 13, 13, 32)       0         \n",
            " )                                                               \n",
            "                                                                 \n",
            " conv2d_1 (Conv2D)           (None, 11, 11, 48)        13872     \n",
            "                                                                 \n",
            " max_pooling2d_1 (MaxPooling  (None, 5, 5, 48)         0         \n",
            " 2D)                                                             \n",
            "                                                                 \n",
            " dropout (Dropout)           (None, 5, 5, 48)          0         \n",
            "                                                                 \n",
            " flatten (Flatten)           (None, 1200)              0         \n",
            "                                                                 \n",
            " dense (Dense)               (None, 500)               600500    \n",
            "                                                                 \n",
            " dense_1 (Dense)             (None, 10)                5010      \n",
            "                                                                 \n",
            "=================================================================\n",
            "Total params: 619,702\n",
            "Trainable params: 619,702\n",
            "Non-trainable params: 0\n",
            "_________________________________________________________________\n"
          ]
        }
      ]
    },
    {
      "cell_type": "markdown",
      "metadata": {
        "id": "xW1Zm-O-Z9Uk"
      },
      "source": [
        "### <font color='red'> Interactive Command Line through `python` </font>\n",
        "\n",
        "---\n",
        "\n",
        "* You can use the interpreter in the interactive mode to test some commands.\n",
        "* You need to type `python` from the command line.\n",
        "* You can directly type in Python code, and press `Enter` to get the output.\n",
        "* You can exit the interactive mode with `quit()` or `exit` command or `^Ctrl + D`.\n",
        "* The sequence you enter will not be saved if you close the current session."
      ]
    },
    {
      "cell_type": "code",
      "source": [
        "model.compile(optimizer='adam', loss = 'sparse_categorical_crossentropy',metrics= ['accuracy'] )\n",
        "x=model.fit(train_x, train_y, epochs=10, batch_size = 128, verbose= 2 , validation_split = 0.1)"
      ],
      "metadata": {
        "id": "tYbAp5mzbE4n",
        "colab": {
          "base_uri": "https://localhost:8080/"
        },
        "outputId": "3d9064e9-f8bc-4224-c385-e1fbdc31d816"
      },
      "execution_count": null,
      "outputs": [
        {
          "output_type": "stream",
          "name": "stdout",
          "text": [
            "Epoch 1/10\n",
            "422/422 - 33s - loss: 0.2449 - accuracy: 0.9262 - val_loss: 0.0530 - val_accuracy: 0.9847 - 33s/epoch - 78ms/step\n",
            "Epoch 2/10\n",
            "422/422 - 30s - loss: 0.0786 - accuracy: 0.9757 - val_loss: 0.0418 - val_accuracy: 0.9883 - 30s/epoch - 72ms/step\n",
            "Epoch 3/10\n",
            "422/422 - 31s - loss: 0.0577 - accuracy: 0.9820 - val_loss: 0.0321 - val_accuracy: 0.9907 - 31s/epoch - 74ms/step\n",
            "Epoch 4/10\n",
            "422/422 - 30s - loss: 0.0468 - accuracy: 0.9847 - val_loss: 0.0299 - val_accuracy: 0.9913 - 30s/epoch - 72ms/step\n",
            "Epoch 5/10\n",
            "422/422 - 29s - loss: 0.0388 - accuracy: 0.9878 - val_loss: 0.0301 - val_accuracy: 0.9905 - 29s/epoch - 69ms/step\n",
            "Epoch 6/10\n",
            "422/422 - 30s - loss: 0.0356 - accuracy: 0.9882 - val_loss: 0.0288 - val_accuracy: 0.9917 - 30s/epoch - 71ms/step\n",
            "Epoch 7/10\n",
            "422/422 - 30s - loss: 0.0314 - accuracy: 0.9900 - val_loss: 0.0241 - val_accuracy: 0.9932 - 30s/epoch - 72ms/step\n",
            "Epoch 8/10\n",
            "422/422 - 29s - loss: 0.0288 - accuracy: 0.9911 - val_loss: 0.0256 - val_accuracy: 0.9930 - 29s/epoch - 70ms/step\n",
            "Epoch 9/10\n",
            "422/422 - 30s - loss: 0.0254 - accuracy: 0.9918 - val_loss: 0.0216 - val_accuracy: 0.9940 - 30s/epoch - 71ms/step\n",
            "Epoch 10/10\n",
            "422/422 - 31s - loss: 0.0230 - accuracy: 0.9925 - val_loss: 0.0237 - val_accuracy: 0.9938 - 31s/epoch - 72ms/step\n"
          ]
        }
      ]
    },
    {
      "cell_type": "markdown",
      "metadata": {
        "id": "mzRwNRkCZ9Ul"
      },
      "source": [
        "**Sample Session**\n",
        "\n",
        "1. Open your terminal/Anaconda prompt and type:\n",
        "\n",
        "`python`\n",
        "\n",
        "\n",
        "2. From this interactive shell, you will notice that the prompt is `>>>`. This is now allowing us to type Python code directly and execute it.\n",
        "\n",
        "3. Now type:\n",
        "\n",
        "`print('Hello world!')`\n",
        "\n",
        "4. You should see the output on the screen.\n",
        "\n",
        "5. To exit the Python shell type `exit()` and press `Return` key.\n",
        "\n"
      ]
    },
    {
      "cell_type": "code",
      "source": [
        "loss, accuracy= model.evaluate(test_x, test_y, verbose = 0)\n",
        "print(f'Accuracy: {accuracy*100}')\n"
      ],
      "metadata": {
        "id": "ETQYDo97bIXE",
        "colab": {
          "base_uri": "https://localhost:8080/"
        },
        "outputId": "8ea6ca81-997e-4a9b-9436-3657945ccefc"
      },
      "execution_count": 21,
      "outputs": [
        {
          "output_type": "stream",
          "name": "stdout",
          "text": [
            "Accuracy: 99.32000041007996\n"
          ]
        }
      ]
    },
    {
      "cell_type": "markdown",
      "metadata": {
        "id": "UhIAU8RAZ9Un"
      },
      "source": [
        "### <font color='red'>Interactive Command Line through `ipython` </font>\n",
        "\n",
        "---\n",
        "* IPython is an interactive shell for the Python programming language that offers enhanced introspection, additional shell syntax, tab completion and rich history.\n",
        "* It does not come by default with Python.\n",
        "* IPython gives you all that you get in the basic interpreter but with a lot extra (line numbers, advanced editing, more functions, help functions etc).\n",
        "* It can be started by typing `ipython` at the command line.\n",
        "* The main aesthetic difference between the Python interpreter and the enhanced IPython interpreter lies in the command prompt: Python uses `>>>` by default, while IPython uses numbered commands (e.g. `In [1]:`)."
      ]
    },
    {
      "cell_type": "code",
      "source": [
        "model.save(r'D:\\Module\\Final.h5')\n"
      ],
      "metadata": {
        "id": "tvCXoeh8bLgS"
      },
      "execution_count": null,
      "outputs": []
    },
    {
      "cell_type": "markdown",
      "metadata": {
        "id": "p-mVOeF0Z9Uo"
      },
      "source": [
        "**Sample Session**\n",
        "\n",
        "1. Open your terminal/Anaconda prompt and type:\n",
        "\n",
        "`ipython`\n",
        "\n",
        "2. This is an enhanced interactive shell that has many features (tab-completion, woot!). It also has a prompt that is numbered.\n",
        "\n",
        "3. Now type:\n",
        "\n",
        "`print('Hello world!')`\n",
        "\n",
        "4. You should see the output on the screen.\n",
        "\n",
        "5. To exit the Python shell type `exit()` and press `Return` key."
      ]
    },
    {
      "cell_type": "code",
      "source": [
        "from tensorflow.keras.utils import load_img\n",
        "from tensorflow.keras.utils import img_to_array\n",
        "from keras.models import load_model\n",
        "import matplotlib.pyplot as plt\n",
        "# load and prepare the image\n",
        "def load_image(filename):\n",
        "# load the image\n",
        " img = load_img(filename, grayscale=True, target_size=(28, 28))\n",
        " plt.figure(figsize=(5,5))\n",
        " plt.imshow(img,cmap='gray')\n",
        " plt.show()\n",
        "# convert to array\n",
        " img = img_to_array(img)\n",
        "# reshape into a single sample with 1 channel\n",
        " img = img.reshape(1, 28, 28, 1)\n",
        "# prepare pixel data\n",
        " img = img.astype('float32')\n",
        " img = img / 255.0\n",
        " return img\n",
        "# load an image and predict the class\n",
        "def run_example():\n",
        "# load the image\n",
        " img = load_image(r'/content/parrot.jpg')\n",
        "# load model\n",
        " model = load_model(r'D:\\Module\\Final.h5')\n",
        "# predict the class\n",
        " predict_value = model.predict(img)\n",
        " digit = argmax(predict_value)\n",
        " print('Predicted',digit)\n",
        "run_example()"
      ],
      "metadata": {
        "id": "6z_wbfhdbPMK",
        "outputId": "7c884133-d33a-4897-b6fe-ee25c544462e",
        "colab": {
          "base_uri": "https://localhost:8080/",
          "height": 480
        }
      },
      "execution_count": 22,
      "outputs": [
        {
          "output_type": "display_data",
          "data": {
            "text/plain": [
              "<Figure size 500x500 with 1 Axes>"
            ],
            "image/png": "[encoded data removed]"
          },
          "metadata": {}
        },
        {
          "output_type": "stream",
          "name": "stdout",
          "text": [
            "1/1 [==============================] - 0s 98ms/step\n",
            "Predicted 2\n"
          ]
        }
      ]
    },
    {
      "cell_type": "markdown",
      "metadata": {
        "id": "sP3TMjZsZ9Up"
      },
      "source": [
        "### <font color='red'> Scripting </font>\n",
        "\n",
        "---\n",
        "* Real Python programs are made as scripts and look like simple text files.\n",
        "* These files are given extensions `.py`.\n",
        "* You can create text files using whatever text editor you like.\n",
        "* To run the script you need to use the programming language interpreter and specify the name of the created file as an additional parameter:\n",
        "\n",
        "```\n",
        "       %python my_python_file.py\n",
        "```"
      ]
    },
    {
      "cell_type": "markdown",
      "metadata": {
        "id": "Jv7QnddpZ9Uq"
      },
      "source": [
        "**Sample Session**\n",
        "\n",
        "1. Start a new ASCII/text document named `helloworld.py` and enter the following text:\n",
        "\n",
        "`print('Hello world!')`\n",
        "\n",
        "2. Save the document and then in your terminal/Anaconda prompt, go to the directory containing the newlt created file.\n",
        "\n",
        "\n",
        "3. From the terminal/Anaconda prompt, type:\n",
        "\n",
        "`python helloworld.py`\n",
        "\n",
        "4. You should see the output on the screen."
      ]
    },
    {
      "cell_type": "markdown",
      "metadata": {
        "id": "3Zsyc3kFZ9Us"
      },
      "source": [
        "### <font color='red'> Jupyter Notebook </font>\n",
        "\n",
        "---\n",
        "* A useful hybrid of the interactive terminal and the self-contained script is the Jupyter notebook, a document format that allows executable code, formatted text, graphics, and even interactive features to be combined into a single document.\n",
        "* Though the notebook began as a Python-only format, it has since been made compatible with a large number of programming languages.\n",
        "* The notebook is useful both as a development environment, and as a means of sharing work via rich computational and data-driven narratives that mix together code, figures, data, and text.\n"
      ]
    },
    {
      "cell_type": "markdown",
      "metadata": {
        "id": "L68MTDR0Z9Ut"
      },
      "source": [
        "**Sample Session**\n",
        "\n",
        "1. Open your terminal/Anaconda Prompt and type:\n",
        "\n",
        "`jupyter notebook`\n",
        "\n",
        "2. This directs you to a web browser and you can navigate to an already existing notebook or create one (right side menu New -> Python 3).\n",
        "\n",
        "3. This will open up a new Untitled notebook where you can directly input Python code, Markup formatted text, or have raw text.\n",
        "\n",
        "4. Now type:\n",
        "\n",
        "`print('Hello world!')`\n",
        "\n",
        "5. Press `Shift+Enter`, `Cntrl+Enter` or click `Cells -> Run Cells` or use the `Play` button near the top of the page.\n",
        "\n",
        "6. You should see the output on the screen.\n",
        "\n",
        "7. Exit via closing the browser windows and stopping the server running in the terminal/command prompt (most likely with a Cntrl+C)."
      ]
    },
    {
      "cell_type": "markdown",
      "metadata": {
        "id": "hYkEhQ9CZ9Ut"
      },
      "source": [
        "## <font color='red'>Other Ways</font>\n",
        "\n",
        "* [10 Best Python IDE & Code Editors](https://hackr.io/blog/best-python-ide)\n",
        "* [Python IDEs and Code Editors (Guide)](https://realpython.com/python-ides-code-editors-guide/)\n",
        "* [Google Colaboratory](http://colab.research.google.com)\n",
        "* [Binder](http://mybinder.org)\n",
        "* [Microsoft Azure](http://notebooks.azure.com)"
      ]
    },
    {
      "cell_type": "markdown",
      "metadata": {
        "id": "0chxLV84Z9Uu"
      },
      "source": [
        "# <font color='blue'>References</font>\n",
        "\n",
        "* [How to Run Python Code](https://jakevdp.github.io/WhirlwindTourOfPython/01-how-to-run-python-code.html)\n",
        "* [How To Run Your Python Scripts](https://www.knowledgehut.com/blog/programming/run-python-scripts)\n",
        "* [Getting Started with Python in Visual Studio Code](https://code.visualstudio.com/docs/python/python-tutorial)\n",
        "* [How to Run a Python Script on Mac](https://www.maketecheasier.com/run-python-script-in-mac/)\n",
        "* [Running Python Scripts from anywhere under Windows](https://correlated.kayako.com/article/40-running-python-scripts-from-anywhere-under-windows)"
      ]
    }
  ],
  "metadata": {
    "celltoolbar": "Slideshow",
    "kernelspec": {
      "display_name": "Python 3 (ipykernel)",
      "language": "python",
      "name": "python3"
    },
    "language_info": {
      "codemirror_mode": {
        "name": "ipython",
        "version": 3
      },
      "file_extension": ".py",
      "mimetype": "text/x-python",
      "name": "python",
      "nbconvert_exporter": "python",
      "pygments_lexer": "ipython3",
      "version": "3.8.2"
    },
    "colab": {
      "provenance": [],
      "include_colab_link": true
    }
  },
  "nbformat": 4,
  "nbformat_minor": 0
}